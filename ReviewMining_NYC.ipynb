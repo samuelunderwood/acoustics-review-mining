{
 "cells": [
  {
   "cell_type": "markdown",
   "source": [
    "## Importing packages"
   ],
   "metadata": {
    "collapsed": false
   },
   "id": "702a0f381f9acdf1"
  },
  {
   "cell_type": "code",
   "execution_count": 1,
   "outputs": [],
   "source": [
    "import pandas as pd"
   ],
   "metadata": {
    "collapsed": false,
    "ExecuteTime": {
     "end_time": "2024-01-24T15:01:39.138805500Z",
     "start_time": "2024-01-24T15:01:38.266696200Z"
    }
   },
   "id": "initial_id"
  },
  {
   "cell_type": "markdown",
   "source": [
    "## New York Business Dataset - cleaning\n",
    "Note: If the full datasets are taking too long to run, you could use the smaller 10-core subsets for experimenting."
   ],
   "metadata": {
    "collapsed": false
   },
   "id": "36e10dcbada3eef0"
  },
  {
   "cell_type": "code",
   "execution_count": 3,
   "outputs": [
    {
     "name": "stdout",
     "output_type": "stream",
     "text": [
      "The DataFrame :\n"
     ]
    },
    {
     "data": {
      "text/plain": "        user_id           time  rating  \\\n0  1.018558e+20  1629141186463     1.0   \n1  1.058219e+20  1528477593994     1.0   \n2  1.089909e+20  1424830512308     1.0   \n3  1.170215e+20  1512641660497     5.0   \n4  1.137221e+20  1603494795361     5.0   \n\n                                                text  \\\n0  Natalia may be the worst agent I have ever dea...   \n1  The lady at the front desk is rude. The bathro...   \n2  Worst agent in New York and Brooklyn, dont was...   \n3                                               None   \n4  I'm late to posting this but this store especi...   \n\n                                                pics  resp  \\\n0                                               None  None   \n1                                               None  None   \n2                                               None  None   \n3                                               None  None   \n4  [{'url': ['https://lh5.googleusercontent.com/p...  None   \n\n                                 gmap_id  \n0  0x89c24469c758686b:0x641f5b84cb9bedfa  \n1  0x89c24469c758686b:0x641f5b84cb9bedfa  \n2  0x89c24469c758686b:0x641f5b84cb9bedfa  \n3  0x89c24469c758686b:0x641f5b84cb9bedfa  \n4    0x89c25fc9494dce47:0x6d63c807b59a55  ",
      "text/html": "<div>\n<style scoped>\n    .dataframe tbody tr th:only-of-type {\n        vertical-align: middle;\n    }\n\n    .dataframe tbody tr th {\n        vertical-align: top;\n    }\n\n    .dataframe thead th {\n        text-align: right;\n    }\n</style>\n<table border=\"1\" class=\"dataframe\">\n  <thead>\n    <tr style=\"text-align: right;\">\n      <th></th>\n      <th>user_id</th>\n      <th>time</th>\n      <th>rating</th>\n      <th>text</th>\n      <th>pics</th>\n      <th>resp</th>\n      <th>gmap_id</th>\n    </tr>\n  </thead>\n  <tbody>\n    <tr>\n      <th>0</th>\n      <td>1.018558e+20</td>\n      <td>1629141186463</td>\n      <td>1.0</td>\n      <td>Natalia may be the worst agent I have ever dea...</td>\n      <td>None</td>\n      <td>None</td>\n      <td>0x89c24469c758686b:0x641f5b84cb9bedfa</td>\n    </tr>\n    <tr>\n      <th>1</th>\n      <td>1.058219e+20</td>\n      <td>1528477593994</td>\n      <td>1.0</td>\n      <td>The lady at the front desk is rude. The bathro...</td>\n      <td>None</td>\n      <td>None</td>\n      <td>0x89c24469c758686b:0x641f5b84cb9bedfa</td>\n    </tr>\n    <tr>\n      <th>2</th>\n      <td>1.089909e+20</td>\n      <td>1424830512308</td>\n      <td>1.0</td>\n      <td>Worst agent in New York and Brooklyn, dont was...</td>\n      <td>None</td>\n      <td>None</td>\n      <td>0x89c24469c758686b:0x641f5b84cb9bedfa</td>\n    </tr>\n    <tr>\n      <th>3</th>\n      <td>1.170215e+20</td>\n      <td>1512641660497</td>\n      <td>5.0</td>\n      <td>None</td>\n      <td>None</td>\n      <td>None</td>\n      <td>0x89c24469c758686b:0x641f5b84cb9bedfa</td>\n    </tr>\n    <tr>\n      <th>4</th>\n      <td>1.137221e+20</td>\n      <td>1603494795361</td>\n      <td>5.0</td>\n      <td>I'm late to posting this but this store especi...</td>\n      <td>[{'url': ['https://lh5.googleusercontent.com/p...</td>\n      <td>None</td>\n      <td>0x89c25fc9494dce47:0x6d63c807b59a55</td>\n    </tr>\n  </tbody>\n</table>\n</div>"
     },
     "metadata": {},
     "output_type": "display_data"
    }
   ],
   "source": [
    "# Specify the file path\n",
    "file_path = 'Raw Data/review-New_York.json'\n",
    "\n",
    "# Set the chunk size to an appropriate value based on your available memory\n",
    "chunk_size = 10000  # Adjust this value as needed\n",
    "\n",
    "# Initialize an empty list to store the dataframes\n",
    "dfs = []\n",
    "\n",
    "# Use a loop to read the file in chunks\n",
    "for chunk in pd.read_json(file_path, lines=True, chunksize=chunk_size):\n",
    "    dfs.append(chunk)\n",
    "\n",
    "# Concatenate the list of dataframes into a single dataframe\n",
    "df = pd.concat(dfs, ignore_index=True)\n",
    "\n",
    "# Remove identifiable names | axis 1 removes by column\n",
    "df = df.drop('name', axis=1)\n",
    "\n",
    "print(\"The DataFrame :\")\n",
    "display(df.head())"
   ],
   "metadata": {
    "collapsed": false,
    "ExecuteTime": {
     "end_time": "2024-01-24T15:10:00.799588200Z",
     "start_time": "2024-01-24T15:07:13.620399400Z"
    }
   },
   "id": "c5a77f2b46280c7a"
  },
  {
   "cell_type": "markdown",
   "source": [
    "## Filter business dataset based on metadata 'category'\n",
    "Currently, this section filters businesses to only include rows where \"restaurant\" is mentioned in the business metadata category. We should further explore the metadata in the full dataset to understand how 'category' is structured. Perhaps there are other sub-categories which are being accidentally excluded (e.g., steakhouse, food court, cafe, coffee shop, etc.)"
   ],
   "metadata": {
    "collapsed": false
   },
   "id": "211f29d26e9dacec"
  },
  {
   "cell_type": "code",
   "execution_count": 5,
   "outputs": [
    {
     "data": {
      "text/plain": "                                     name  \\\n0                         A-Top Insurance   \n1                                T-Mobile   \n2                            Ace Hardware   \n3  Agricultural Consulting Services, Inc.   \n4                              Long Point   \n\n                                             address  \\\n0  A-Top Insurance, 1009 Brighton Beach Ave, Broo...   \n1          T-Mobile, 3923 103rd St, Queens, NY 11368   \n2      Ace Hardware, 130 4th Ave, New York, NY 10003   \n3  Agricultural Consulting Services, Inc., 370 Su...   \n4                      Long Point, Ledyard, NY 13026   \n\n                                 gmap_id  \\\n0  0x89c24469c758686b:0x641f5b84cb9bedfa   \n1    0x89c25fc9494dce47:0x6d63c807b59a55   \n2  0x89c259992463b6e1:0x4a601a43752541dd   \n3  0x89d14bf74320aea5:0x720261cd8960f8cd   \n4  0x89d0bd8d2df8d10f:0x77a8f349f40492fa   \n\n                                         description   latitude  longitude  \\\n0                                               None  40.578254 -73.959127   \n1                                               None  40.750146 -73.862536   \n2  Chain retailer stocking household tools, suppl...  40.733182 -73.990201   \n3                                               None  43.054743 -77.649136   \n4                                               None  42.715626 -76.710227   \n\n                                            category  avg_rating  \\\n0               [Insurance broker, Insurance agency]         2.0   \n1  [Cell phone store, Electronic parts supplier, ...         3.5   \n2  [Hardware store, Building materials store, Ele...         3.4   \n3                                 [Corporate office]         3.0   \n4                                        [Peninsula]         5.0   \n\n   num_of_reviews price                                              hours  \\\n0               4  None  [[Thursday, 10AM–6PM], [Friday, 10AM–6PM], [Sa...   \n1              95    $$  [[Thursday, 10AM–8PM], [Friday, 10AM–8PM], [Sa...   \n2               8  None  [[Thursday, 8AM–6:30PM], [Friday, 8AM–6:30PM],...   \n3               1  None  [[Thursday, 9AM–5PM], [Friday, 9AM–5PM], [Satu...   \n4               1  None                                               None   \n\n                                                MISC               state  \\\n0                                               None   Open ⋅ Closes 6PM   \n1  {'Service options': ['In-store shopping', 'Del...   Open ⋅ Closes 8PM   \n2                                               None  Permanently closed   \n3                                               None   Open ⋅ Closes 5PM   \n4                                               None                None   \n\n                                    relative_results  \\\n0  [0x89c24449907718fb:0x31b554a0983f621d, 0x4065...   \n1  [0x89c25fc7a91c609f:0xb103d6a261373fd, 0x89c25...   \n2  [0x89c2598340fb6509:0xa996f3db49ba6e78, 0x89c2...   \n3                                               None   \n4                                               None   \n\n                                                 url  \n0  https://www.google.com/maps/place//data=!4m2!3...  \n1  https://www.google.com/maps/place//data=!4m2!3...  \n2  https://www.google.com/maps/place//data=!4m2!3...  \n3  https://www.google.com/maps/place//data=!4m2!3...  \n4  https://www.google.com/maps/place/Ledyard,+NY+...  ",
      "text/html": "<div>\n<style scoped>\n    .dataframe tbody tr th:only-of-type {\n        vertical-align: middle;\n    }\n\n    .dataframe tbody tr th {\n        vertical-align: top;\n    }\n\n    .dataframe thead th {\n        text-align: right;\n    }\n</style>\n<table border=\"1\" class=\"dataframe\">\n  <thead>\n    <tr style=\"text-align: right;\">\n      <th></th>\n      <th>name</th>\n      <th>address</th>\n      <th>gmap_id</th>\n      <th>description</th>\n      <th>latitude</th>\n      <th>longitude</th>\n      <th>category</th>\n      <th>avg_rating</th>\n      <th>num_of_reviews</th>\n      <th>price</th>\n      <th>hours</th>\n      <th>MISC</th>\n      <th>state</th>\n      <th>relative_results</th>\n      <th>url</th>\n    </tr>\n  </thead>\n  <tbody>\n    <tr>\n      <th>0</th>\n      <td>A-Top Insurance</td>\n      <td>A-Top Insurance, 1009 Brighton Beach Ave, Broo...</td>\n      <td>0x89c24469c758686b:0x641f5b84cb9bedfa</td>\n      <td>None</td>\n      <td>40.578254</td>\n      <td>-73.959127</td>\n      <td>[Insurance broker, Insurance agency]</td>\n      <td>2.0</td>\n      <td>4</td>\n      <td>None</td>\n      <td>[[Thursday, 10AM–6PM], [Friday, 10AM–6PM], [Sa...</td>\n      <td>None</td>\n      <td>Open ⋅ Closes 6PM</td>\n      <td>[0x89c24449907718fb:0x31b554a0983f621d, 0x4065...</td>\n      <td>https://www.google.com/maps/place//data=!4m2!3...</td>\n    </tr>\n    <tr>\n      <th>1</th>\n      <td>T-Mobile</td>\n      <td>T-Mobile, 3923 103rd St, Queens, NY 11368</td>\n      <td>0x89c25fc9494dce47:0x6d63c807b59a55</td>\n      <td>None</td>\n      <td>40.750146</td>\n      <td>-73.862536</td>\n      <td>[Cell phone store, Electronic parts supplier, ...</td>\n      <td>3.5</td>\n      <td>95</td>\n      <td>$$</td>\n      <td>[[Thursday, 10AM–8PM], [Friday, 10AM–8PM], [Sa...</td>\n      <td>{'Service options': ['In-store shopping', 'Del...</td>\n      <td>Open ⋅ Closes 8PM</td>\n      <td>[0x89c25fc7a91c609f:0xb103d6a261373fd, 0x89c25...</td>\n      <td>https://www.google.com/maps/place//data=!4m2!3...</td>\n    </tr>\n    <tr>\n      <th>2</th>\n      <td>Ace Hardware</td>\n      <td>Ace Hardware, 130 4th Ave, New York, NY 10003</td>\n      <td>0x89c259992463b6e1:0x4a601a43752541dd</td>\n      <td>Chain retailer stocking household tools, suppl...</td>\n      <td>40.733182</td>\n      <td>-73.990201</td>\n      <td>[Hardware store, Building materials store, Ele...</td>\n      <td>3.4</td>\n      <td>8</td>\n      <td>None</td>\n      <td>[[Thursday, 8AM–6:30PM], [Friday, 8AM–6:30PM],...</td>\n      <td>None</td>\n      <td>Permanently closed</td>\n      <td>[0x89c2598340fb6509:0xa996f3db49ba6e78, 0x89c2...</td>\n      <td>https://www.google.com/maps/place//data=!4m2!3...</td>\n    </tr>\n    <tr>\n      <th>3</th>\n      <td>Agricultural Consulting Services, Inc.</td>\n      <td>Agricultural Consulting Services, Inc., 370 Su...</td>\n      <td>0x89d14bf74320aea5:0x720261cd8960f8cd</td>\n      <td>None</td>\n      <td>43.054743</td>\n      <td>-77.649136</td>\n      <td>[Corporate office]</td>\n      <td>3.0</td>\n      <td>1</td>\n      <td>None</td>\n      <td>[[Thursday, 9AM–5PM], [Friday, 9AM–5PM], [Satu...</td>\n      <td>None</td>\n      <td>Open ⋅ Closes 5PM</td>\n      <td>None</td>\n      <td>https://www.google.com/maps/place//data=!4m2!3...</td>\n    </tr>\n    <tr>\n      <th>4</th>\n      <td>Long Point</td>\n      <td>Long Point, Ledyard, NY 13026</td>\n      <td>0x89d0bd8d2df8d10f:0x77a8f349f40492fa</td>\n      <td>None</td>\n      <td>42.715626</td>\n      <td>-76.710227</td>\n      <td>[Peninsula]</td>\n      <td>5.0</td>\n      <td>1</td>\n      <td>None</td>\n      <td>None</td>\n      <td>None</td>\n      <td>None</td>\n      <td>None</td>\n      <td>https://www.google.com/maps/place/Ledyard,+NY+...</td>\n    </tr>\n  </tbody>\n</table>\n</div>"
     },
     "metadata": {},
     "output_type": "display_data"
    }
   ],
   "source": [
    "# Convert json to dataframe\n",
    "metadata = pd.read_json('Raw Data/meta-New_York.json',lines=True)\n",
    "display(metadata.head())\n",
    "\n",
    "# Flatten the lists in the \"category\" column and convert them to lowercase\n",
    "metadata['category'] = metadata['category'].apply(lambda x: [item.lower() for item in x] if isinstance(x, list) else [])\n",
    "\n",
    "# Filter the metadata DataFrame to create a list of business IDs with \"restaurant\" in the category\n",
    "restaurant_ids = metadata[metadata['category'].apply(lambda x: 'restaurant' in x)]['gmap_id'].tolist()\n"
   ],
   "metadata": {
    "collapsed": false,
    "ExecuteTime": {
     "end_time": "2024-01-24T15:14:59.807352300Z",
     "start_time": "2024-01-24T15:14:52.418968900Z"
    }
   },
   "id": "80a87b49f3373267"
  },
  {
   "cell_type": "code",
   "execution_count": 6,
   "outputs": [
    {
     "data": {
      "text/plain": "          user_id           time  rating  \\\n652  1.094350e+20  1384783434547     5.0   \n653  1.032679e+20  1415746051592     5.0   \n654  1.085845e+20  1424212048498     1.0   \n655  1.089870e+20  1419979427508     1.0   \n656  1.007163e+20  1402593742697     1.0   \n\n                                                  text  pics  resp  \\\n652  I came by yesterday to pick up some pizza on t...  None  None   \n653  Great place.  They had 4 soups self serve so y...  None  None   \n654  Food was burnt and not good. You would think s...  None  None   \n655  This place is horrible. I ordered two ziti piz...  None  None   \n656  Ordered a minestrone soup and got some water w...  None  None   \n\n                                   gmap_id  \n652  0x89c258ffaeaba947:0x8355860772a595a9  \n653  0x89c258ffaeaba947:0x8355860772a595a9  \n654  0x89c258ffaeaba947:0x8355860772a595a9  \n655  0x89c258ffaeaba947:0x8355860772a595a9  \n656  0x89c258ffaeaba947:0x8355860772a595a9  ",
      "text/html": "<div>\n<style scoped>\n    .dataframe tbody tr th:only-of-type {\n        vertical-align: middle;\n    }\n\n    .dataframe tbody tr th {\n        vertical-align: top;\n    }\n\n    .dataframe thead th {\n        text-align: right;\n    }\n</style>\n<table border=\"1\" class=\"dataframe\">\n  <thead>\n    <tr style=\"text-align: right;\">\n      <th></th>\n      <th>user_id</th>\n      <th>time</th>\n      <th>rating</th>\n      <th>text</th>\n      <th>pics</th>\n      <th>resp</th>\n      <th>gmap_id</th>\n    </tr>\n  </thead>\n  <tbody>\n    <tr>\n      <th>652</th>\n      <td>1.094350e+20</td>\n      <td>1384783434547</td>\n      <td>5.0</td>\n      <td>I came by yesterday to pick up some pizza on t...</td>\n      <td>None</td>\n      <td>None</td>\n      <td>0x89c258ffaeaba947:0x8355860772a595a9</td>\n    </tr>\n    <tr>\n      <th>653</th>\n      <td>1.032679e+20</td>\n      <td>1415746051592</td>\n      <td>5.0</td>\n      <td>Great place.  They had 4 soups self serve so y...</td>\n      <td>None</td>\n      <td>None</td>\n      <td>0x89c258ffaeaba947:0x8355860772a595a9</td>\n    </tr>\n    <tr>\n      <th>654</th>\n      <td>1.085845e+20</td>\n      <td>1424212048498</td>\n      <td>1.0</td>\n      <td>Food was burnt and not good. You would think s...</td>\n      <td>None</td>\n      <td>None</td>\n      <td>0x89c258ffaeaba947:0x8355860772a595a9</td>\n    </tr>\n    <tr>\n      <th>655</th>\n      <td>1.089870e+20</td>\n      <td>1419979427508</td>\n      <td>1.0</td>\n      <td>This place is horrible. I ordered two ziti piz...</td>\n      <td>None</td>\n      <td>None</td>\n      <td>0x89c258ffaeaba947:0x8355860772a595a9</td>\n    </tr>\n    <tr>\n      <th>656</th>\n      <td>1.007163e+20</td>\n      <td>1402593742697</td>\n      <td>1.0</td>\n      <td>Ordered a minestrone soup and got some water w...</td>\n      <td>None</td>\n      <td>None</td>\n      <td>0x89c258ffaeaba947:0x8355860772a595a9</td>\n    </tr>\n  </tbody>\n</table>\n</div>"
     },
     "metadata": {},
     "output_type": "display_data"
    }
   ],
   "source": [
    "# Filter the review dataframe to include only business IDs that appear in the list of restaurant IDs\n",
    "restaurantreviews = df[df['gmap_id'].isin(restaurant_ids)]\n",
    "display(restaurantreviews.head())\n",
    "\n",
    "# Filter the metadata dataframe to include only businesses that appear in the list of restaurant IDs\n",
    "restaurantmetadata = metadata[metadata['gmap_id'].isin(restaurant_ids)]\n"
   ],
   "metadata": {
    "collapsed": false,
    "ExecuteTime": {
     "end_time": "2024-01-24T15:16:13.622594700Z",
     "start_time": "2024-01-24T15:16:11.830685400Z"
    }
   },
   "id": "eb7af24cd2bb5a92"
  },
  {
   "cell_type": "markdown",
   "source": [
    "### Convert date/time\n",
    "Note: This assumes that the review timestamps are UNIX format in milliseconds. Reviews should only range from early 2000s to 2021, earlier review timestamps indicate some sort of error."
   ],
   "metadata": {
    "collapsed": false
   },
   "id": "a723fe1aca3d7415"
  },
  {
   "cell_type": "code",
   "execution_count": 7,
   "outputs": [
    {
     "name": "stderr",
     "output_type": "stream",
     "text": [
      "C:\\Users\\sammh\\AppData\\Local\\Temp\\ipykernel_1808\\1014142260.py:1: SettingWithCopyWarning: \n",
      "A value is trying to be set on a copy of a slice from a DataFrame.\n",
      "Try using .loc[row_indexer,col_indexer] = value instead\n",
      "\n",
      "See the caveats in the documentation: https://pandas.pydata.org/pandas-docs/stable/user_guide/indexing.html#returning-a-view-versus-a-copy\n",
      "  restaurantreviews['time'] = pd.to_datetime(restaurantreviews['time'], unit='ms')\n"
     ]
    }
   ],
   "source": [
    "restaurantreviews['time'] = pd.to_datetime(restaurantreviews['time'], unit='ms')"
   ],
   "metadata": {
    "collapsed": false,
    "ExecuteTime": {
     "end_time": "2024-01-24T15:16:20.150378400Z",
     "start_time": "2024-01-24T15:16:19.800583400Z"
    }
   },
   "id": "b6a9205dd28affc4"
  },
  {
   "cell_type": "code",
   "execution_count": 8,
   "outputs": [
    {
     "name": "stdout",
     "output_type": "stream",
     "text": [
      "Earliest Date: 1990-12-31 00:00:00\n",
      "Latest Date: 2021-09-08 19:40:17.953000\n"
     ]
    }
   ],
   "source": [
    "# Find the earliest date\n",
    "earliest_date = restaurantreviews['time'].min()\n",
    "\n",
    "# Find the latest date\n",
    "latest_date = restaurantreviews['time'].max()\n",
    "\n",
    "# Print the results\n",
    "print(\"Earliest Date:\", earliest_date)\n",
    "print(\"Latest Date:\", latest_date)"
   ],
   "metadata": {
    "collapsed": false,
    "ExecuteTime": {
     "end_time": "2024-01-24T15:16:24.851452300Z",
     "start_time": "2024-01-24T15:16:24.801821100Z"
    }
   },
   "id": "7549368f97e83dc1"
  },
  {
   "cell_type": "markdown",
   "source": [
    "## Count occurrences of category types"
   ],
   "metadata": {
    "collapsed": false
   },
   "id": "bc8e4c1356adfd84"
  },
  {
   "cell_type": "code",
   "execution_count": 9,
   "outputs": [],
   "source": [
    "# Flatten the list of categories\n",
    "categories_flat = [category for categories in metadata['category'] for category in categories]\n",
    "\n",
    "# Count unique occurrences\n",
    "category_counts = pd.Series(categories_flat).value_counts()\n",
    "\n",
    "# Create a DataFrame from the counts\n",
    "counts_df = pd.DataFrame({'category': category_counts.index, 'count': category_counts.values})\n",
    "\n",
    "# Save to CSV\n",
    "counts_df.to_csv('category_counts.csv', index=False)"
   ],
   "metadata": {
    "collapsed": false,
    "ExecuteTime": {
     "end_time": "2024-01-24T15:27:33.157333700Z",
     "start_time": "2024-01-24T15:27:33.000506100Z"
    }
   },
   "id": "8b202acc3d06b2b4"
  },
  {
   "cell_type": "markdown",
   "source": [
    "### Saving cleaned datasets to CSV files\n",
    "Could still do some more work to make these datasets even cleaner!"
   ],
   "metadata": {
    "collapsed": false
   },
   "id": "b489e21ca38749df"
  },
  {
   "cell_type": "code",
   "execution_count": 15,
   "outputs": [],
   "source": [
    "# Save the filtered restaurant reviews and metadata to a CSV file\n",
    "restaurantreviews.to_csv('NYCrestaurantreviews.csv', index=False)\n",
    "restaurantmetadata.to_csv('NYCrestaurantmetadata.csv', index=False)"
   ],
   "metadata": {
    "collapsed": false,
    "ExecuteTime": {
     "start_time": "2024-01-12T17:06:38.299544200Z"
    }
   },
   "id": "130f0b65bb37b874"
  },
  {
   "cell_type": "markdown",
   "source": [
    "## Exploring noise keywords\n",
    "Just experimenting with some possible keywords of interest."
   ],
   "metadata": {
    "collapsed": false
   },
   "id": "6ac12e0839ef38c3"
  },
  {
   "cell_type": "code",
   "execution_count": 17,
   "outputs": [
    {
     "name": "stdout",
     "output_type": "stream",
     "text": [
      "Number of rows containing noise-related keywords: 43681 out of 5877719\n"
     ]
    }
   ],
   "source": [
    "noise_keywords = [\"loud\", \"noisy\", \"noise\", \"sound\", \"quiet\", \"can't hear\", \"hard to hear\", \"cannot hear\"]\n",
    "\n",
    "# Count rows containing noise keywords in the \"text\" column\n",
    "count_noise_rows = restaurantreviews['text'].str.contains('|'.join(noise_keywords), case=False, na=False).sum()\n",
    "count_all_rows = len(restaurantreviews.index)\n",
    "\n",
    "# Print the count\n",
    "print(f\"Number of rows containing noise-related keywords: {count_noise_rows} out of {count_all_rows}\")"
   ],
   "metadata": {
    "collapsed": false,
    "ExecuteTime": {
     "end_time": "2024-01-12T17:35:25.464652700Z",
     "start_time": "2024-01-12T17:35:07.699583500Z"
    }
   },
   "id": "10b4083c952c4650"
  }
 ],
 "metadata": {
  "kernelspec": {
   "display_name": "Python 3",
   "language": "python",
   "name": "python3"
  },
  "language_info": {
   "codemirror_mode": {
    "name": "ipython",
    "version": 2
   },
   "file_extension": ".py",
   "mimetype": "text/x-python",
   "name": "python",
   "nbconvert_exporter": "python",
   "pygments_lexer": "ipython2",
   "version": "2.7.6"
  }
 },
 "nbformat": 4,
 "nbformat_minor": 5
}
